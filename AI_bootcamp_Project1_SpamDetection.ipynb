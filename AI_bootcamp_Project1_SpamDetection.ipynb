{
  "nbformat": 4,
  "nbformat_minor": 0,
  "metadata": {
    "colab": {
      "provenance": [],
      "authorship_tag": "ABX9TyOc+SJ8HodxaRdGVha2dqVW",
      "include_colab_link": true
    },
    "kernelspec": {
      "name": "python3",
      "display_name": "Python 3"
    },
    "language_info": {
      "name": "python"
    }
  },
  "cells": [
    {
      "cell_type": "markdown",
      "metadata": {
        "id": "view-in-github",
        "colab_type": "text"
      },
      "source": [
        "<a href=\"https://colab.research.google.com/github/tlbrown2/BI_Portfolio/blob/main/AI_bootcamp_Project1_SpamDetection.ipynb\" target=\"_parent\"><img src=\"https://colab.research.google.com/assets/colab-badge.svg\" alt=\"Open In Colab\"/></a>"
      ]
    },
    {
      "cell_type": "code",
      "execution_count": 1,
      "metadata": {
        "colab": {
          "base_uri": "https://localhost:8080/",
          "height": 87
        },
        "id": "AAFfBU5yUb9-",
        "outputId": "72a5cf37-75f9-48ed-e74b-969d3908b290"
      },
      "outputs": [
        {
          "output_type": "stream",
          "name": "stdout",
          "text": [
            "Accuracy Score : 0.9226759339704604\n",
            "Accuracy Score : 0.9582971329278888\n"
          ]
        },
        {
          "output_type": "execute_result",
          "data": {
            "text/plain": [
              "'\\nThe Random Forest model performed better (95.8% accuracy) than the Logistic Regression model (92.2%).\\nI would have expected the Logistic Regression to do better here because of the binary outcome (spam/not spam).\\n\\n\\n'"
            ],
            "application/vnd.google.colaboratory.intrinsic+json": {
              "type": "string"
            }
          },
          "metadata": {},
          "execution_count": 1
        }
      ],
      "source": [
        "import pandas as pd\n",
        "from sklearn.model_selection import train_test_split\n",
        "from sklearn.metrics import accuracy_score\n",
        "from sklearn.preprocessing import StandardScaler\n",
        "\n",
        "\n",
        "# Import the data\n",
        "data = pd.read_csv(\"https://static.bc-edx.com/mbc/ai/m4/datasets/spam-data.csv\")\n",
        "data.head()\n",
        "\n",
        "# Create the labels set `y` and features DataFrame `X`\n",
        "\n",
        "X = data.copy()\n",
        "X.drop(\"spam\", axis=1, inplace=True)\n",
        "\n",
        "y = data['spam']\n",
        "\n",
        "X.head()\n",
        "\n",
        "# Check the balance of the labels variable (`y`) by using the `value_counts` function.\n",
        "y.value_counts()\n",
        "\n",
        "# Split the data into X_train, X_test, y_train, y_test\n",
        "X_train, X_test, y_train, y_test = train_test_split(X, y,random_state=42)\n",
        "X_train.head()\n",
        "\n",
        "from sklearn.preprocessing import StandardScaler\n",
        "\n",
        "# Create the StandardScaler instance\n",
        "scaler = StandardScaler()\n",
        "\n",
        "# Fit the Standard Scaler with the training data\n",
        "X_scaler = scaler.fit(X_train)\n",
        "\n",
        "# Scale the training data\n",
        "X_train_scaled = X_scaler.transform(X_train)\n",
        "X_test_scaled = X_scaler.transform(X_test)\n",
        "\n",
        "# Train a Logistic Regression model and print the model score\n",
        "from sklearn.linear_model import LogisticRegression\n",
        "logistic_regression_model = LogisticRegression()\n",
        "logistic_regression_model.fit(X_train_scaled, y_train)\n",
        "\n",
        "\n",
        "# Make and save testing predictions with the saved logistic regression model using the test data\n",
        "predictions = logistic_regression_model.predict(X_test_scaled)\n",
        "# Review the predictions\n",
        "predictions\n",
        "\n",
        "# Calculate the accuracy score by evaluating `y_test` vs. `testing_predictions`.\n",
        "acc_score = accuracy_score(y_test, predictions)\n",
        "print(f\"Accuracy Score : {acc_score}\")\n",
        "\n",
        "# Train a Random Forest Classifier model and print the model score\n",
        "from sklearn.ensemble import RandomForestClassifier\n",
        "rf_model = RandomForestClassifier(random_state=1)\n",
        "rf_model.fit(X_train_scaled, y_train)\n",
        "score = rf_model.score(X_train_scaled, y_train)\n",
        "score\n",
        "\n",
        "# Make and save testing predictions with the saved logistic regression model using the test data\n",
        "rf_predictions = rf_model.predict(X_test_scaled)\n",
        "\n",
        "# Review the predictions\n",
        "rf_predictions\n",
        "\n",
        "# Calculate the accuracy score by evaluating `y_test` vs. `testing_predictions`.\n",
        "rf_acc_score = accuracy_score(y_test, rf_predictions)\n",
        "print(f\"Accuracy Score : {rf_acc_score}\")\n",
        "\n",
        "\n",
        "\"\"\"\n",
        "The Random Forest model performed better (95.8% accuracy) than the Logistic Regression model (92.2%).\n",
        "I would have expected the Logistic Regression to do better here because of the binary outcome (spam/not spam).\n",
        "\n",
        "\n",
        "\"\"\""
      ]
    }
  ]
}